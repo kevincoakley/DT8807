{
  "nbformat": 4,
  "nbformat_minor": 0,
  "metadata": {
    "colab": {
      "provenance": [],
      "authorship_tag": "ABX9TyNzDWPqnnujiFOBeucA6/zm",
      "include_colab_link": true
    },
    "kernelspec": {
      "name": "python3",
      "display_name": "Python 3"
    },
    "language_info": {
      "name": "python"
    }
  },
  "cells": [
    {
      "cell_type": "markdown",
      "metadata": {
        "id": "view-in-github",
        "colab_type": "text"
      },
      "source": [
        "<a href=\"https://colab.research.google.com/github/kevincoakley/DT8807/blob/main/iris_tensorflow_from_scratch_sgd.ipynb\" target=\"_parent\"><img src=\"https://colab.research.google.com/assets/colab-badge.svg\" alt=\"Open In Colab\"/></a>"
      ]
    },
    {
      "cell_type": "code",
      "execution_count": 1,
      "metadata": {
        "id": "wVPRdmbF5Wbn"
      },
      "outputs": [],
      "source": [
        "\n",
        "import numpy as np\n",
        "import pandas as pd\n",
        "import matplotlib.pyplot as plt\n",
        "from tensorflow import keras\n",
        "import tensorflow as tf\n",
        "import math"
      ]
    },
    {
      "cell_type": "code",
      "source": [
        "# Load IRIS data\n",
        "df = pd.read_csv('https://archive.ics.uci.edu/ml/machine-learning-databases/iris/iris.data', header=None)\n",
        "print(df.head())"
      ],
      "metadata": {
        "colab": {
          "base_uri": "https://localhost:8080/"
        },
        "id": "nRmeDxAr5-tC",
        "outputId": "48625ce9-87c5-4eb1-bc45-ea0e85cfbf8b"
      },
      "execution_count": 2,
      "outputs": [
        {
          "output_type": "stream",
          "name": "stdout",
          "text": [
            "     0    1    2    3            4\n",
            "0  5.1  3.5  1.4  0.2  Iris-setosa\n",
            "1  4.9  3.0  1.4  0.2  Iris-setosa\n",
            "2  4.7  3.2  1.3  0.2  Iris-setosa\n",
            "3  4.6  3.1  1.5  0.2  Iris-setosa\n",
            "4  5.0  3.6  1.4  0.2  Iris-setosa\n"
          ]
        }
      ]
    },
    {
      "cell_type": "code",
      "source": [
        "# extract first 100 class labels (50 iris-setosa and 50 iris-versicolor)\n",
        "x = df.iloc[0:100, [0, 2]].values\n",
        "y = df.iloc[0:100, 4].values\n",
        "\n",
        "# Set the label Iris-setosa as 0 and Iris-versicolor as 1\n",
        "y = np.where(y==\"Iris-setosa\", 0, 1)\n",
        "\n",
        "# Convert the labels to rank-1 tensors\n",
        "y = [[i] for i in y]\n",
        "\n",
        "#print(x) \n",
        "#print(y) "
      ],
      "metadata": {
        "id": "opylq97p7W3X"
      },
      "execution_count": 3,
      "outputs": []
    },
    {
      "cell_type": "code",
      "source": [
        "# scatter plot of the data\n",
        "plt.scatter(x[:, 0], x[:, 1])\n",
        "plt.xlabel('Sepal length [cm]')\n",
        "plt.ylabel('Petal length [cm]')\n",
        "plt.grid()\n",
        "plt.show()"
      ],
      "metadata": {
        "colab": {
          "base_uri": "https://localhost:8080/",
          "height": 279
        },
        "id": "bo1daOBR6Kzt",
        "outputId": "343874b9-93f1-4aab-c2f2-2a3b2b76a4ba"
      },
      "execution_count": 4,
      "outputs": [
        {
          "output_type": "display_data",
          "data": {
            "text/plain": [
              "<Figure size 432x288 with 1 Axes>"
            ],
            "image/png": "[encoded data removed]"
          },
          "metadata": {
            "needs_background": "light"
          }
        }
      ]
    },
    {
      "cell_type": "code",
      "source": [
        "class NaiveDense:\n",
        "    def __init__(self, input_size, output_size, activation):\n",
        "        self.activation = activation\n",
        "\n",
        "        # Create a matix W with shape (input_size, output_size) with random initial values\n",
        "        w_shape = (input_size, output_size)\n",
        "        w_initial_value = tf.random.uniform(w_shape, minval=0, maxval=1e-1)\n",
        "        self.W = tf.Variable(w_initial_value)\n",
        "\n",
        "        # Create a vector b with shape (output_size) with initial values of 0\n",
        "        b_shape = (output_size,)\n",
        "        b_initial_value = tf.zeros(b_shape)\n",
        "        self.b = tf.Variable(b_initial_value)\n",
        "\n",
        "    # Apply forward pass when called\n",
        "    def __call__(self, inputs):\n",
        "        return self.activation(tf.matmul(inputs, self.W) + self.b)\n",
        "\n",
        "    # Method for returning the current layer weights\n",
        "    @property\n",
        "    def weights(self):\n",
        "        return [self.W, self.b]"
      ],
      "metadata": {
        "id": "mQcT7wxF_6WS"
      },
      "execution_count": 5,
      "outputs": []
    },
    {
      "cell_type": "code",
      "source": [
        "class NaiveSequential:\n",
        "    def __init__(self, layers):\n",
        "        self.layers = layers\n",
        "        self.loss = []\n",
        "\n",
        "    def __call__(self, inputs):\n",
        "        x = inputs\n",
        "        for layer in self.layers:\n",
        "            x = layer(x)\n",
        "        return x\n",
        "\n",
        "    @property\n",
        "    def weights(self):\n",
        "        weights = []\n",
        "        for layer in self.layers:\n",
        "            weights += layer.weights\n",
        "        return weights\n",
        "\n",
        "    def save_loss(self, l):\n",
        "      self.loss.append(l)\n"
      ],
      "metadata": {
        "id": "vAKBioin92SS"
      },
      "execution_count": 6,
      "outputs": []
    },
    {
      "cell_type": "code",
      "source": [
        "# Create a binary classification model that has 2 inputs (sepal length & petal length) \n",
        "# and one output (iris-setosa or iris-versicolor)\n",
        "model = NaiveSequential([\n",
        "    NaiveDense(input_size=2, output_size=1, activation=tf.keras.activations.sigmoid)\n",
        "])\n",
        "\n",
        "assert len(model.weights) == 2"
      ],
      "metadata": {
        "id": "YwLdUC5x-LVm"
      },
      "execution_count": 7,
      "outputs": []
    },
    {
      "cell_type": "code",
      "source": [
        "# Create a BatchGenerator Class to sort the dataset into mini batches\n",
        "class BatchGenerator:\n",
        "    def __init__(self, features, labels, batch_size=100):\n",
        "        assert len(features) == len(labels)\n",
        "        self.index = 0\n",
        "        self.features = features\n",
        "        self.labels = labels\n",
        "        self.batch_size = batch_size\n",
        "        self.num_batches = math.ceil(len(features) / batch_size)\n",
        "\n",
        "    def next(self):\n",
        "        features = self.features[self.index : self.index + self.batch_size]\n",
        "        labels = self.labels[self.index : self.index + self.batch_size]\n",
        "        self.index += self.batch_size\n",
        "        return features, labels"
      ],
      "metadata": {
        "id": "AdFhvPijAbfZ"
      },
      "execution_count": 8,
      "outputs": []
    },
    {
      "cell_type": "code",
      "source": [
        "def one_training_step(model, features_batch, labels_batch):\n",
        "    with tf.GradientTape() as tape:\n",
        "        # Run the forward pass and compute the predictions under a GradientTape scope\n",
        "        predictions = model(features_batch)\n",
        "        per_sample_losses = tf.keras.losses.binary_crossentropy(labels_batch, predictions)\n",
        "        average_loss = tf.reduce_mean(per_sample_losses)\n",
        "   \n",
        "    # Compute the gradient of the loss with reguard to the weights\n",
        "    gradients = tape.gradient(average_loss, model.weights)\n",
        "    \n",
        "    # Updated the weights using the gradients\n",
        "    update_weights(gradients, model.weights)\n",
        "    \n",
        "    return average_loss"
      ],
      "metadata": {
        "id": "B03UsBjXAh8e"
      },
      "execution_count": 9,
      "outputs": []
    },
    {
      "cell_type": "code",
      "source": [
        "learning_rate = .1\n",
        "\n",
        "def update_weights(gradients, weights):\n",
        "    for g, w in zip(gradients, weights):\n",
        "        # assign_sub is the equivalent of -= for TF vars\n",
        "        w.assign_sub(g * learning_rate)"
      ],
      "metadata": {
        "id": "jq3NWrLBAmDu"
      },
      "execution_count": 10,
      "outputs": []
    },
    {
      "cell_type": "code",
      "source": [
        "def fit(model, features, labels, epochs, batch_size=128):\n",
        "\n",
        "    for epoch_counter in range(epochs):\n",
        "        print(f\"Epoch {epoch_counter}\")\n",
        "        batch_generator = BatchGenerator(features, labels)\n",
        "        for batch_counter in range(batch_generator.num_batches):\n",
        "            features_batch, labels_batch = batch_generator.next()\n",
        "            loss = one_training_step(model, features_batch, labels_batch)\n",
        "            if batch_counter % 100 == 0:\n",
        "                print(f\"loss at batch {batch_counter}: {loss:.2f}\")\n",
        "                model.save_loss(loss.numpy())\n"
      ],
      "metadata": {
        "id": "r0-4NKQmAzrZ"
      },
      "execution_count": 11,
      "outputs": []
    },
    {
      "cell_type": "code",
      "source": [
        "fit(model, tf.dtypes.cast(x, tf.float32), tf.dtypes.cast(y, tf.int64), epochs=10, batch_size=10)\n",
        "\n",
        "plt.plot(range(1,len(model.loss)+1), model.loss, marker='o')\n",
        "plt.xlabel('Epochs')\n",
        "plt.ylabel('Loss')\n",
        "plt.grid()\n",
        "plt.show()"
      ],
      "metadata": {
        "colab": {
          "base_uri": "https://localhost:8080/",
          "height": 619
        },
        "id": "EdyK500eA3Fu",
        "outputId": "83585803-0088-45c7-eef1-4cedfc1b2f72"
      },
      "execution_count": 12,
      "outputs": [
        {
          "output_type": "stream",
          "name": "stdout",
          "text": [
            "Epoch 0\n",
            "loss at batch 0: 0.67\n",
            "Epoch 1\n",
            "loss at batch 0: 0.65\n",
            "Epoch 2\n",
            "loss at batch 0: 0.63\n",
            "Epoch 3\n",
            "loss at batch 0: 0.60\n",
            "Epoch 4\n",
            "loss at batch 0: 0.58\n",
            "Epoch 5\n",
            "loss at batch 0: 0.56\n",
            "Epoch 6\n",
            "loss at batch 0: 0.54\n",
            "Epoch 7\n",
            "loss at batch 0: 0.53\n",
            "Epoch 8\n",
            "loss at batch 0: 0.51\n",
            "Epoch 9\n",
            "loss at batch 0: 0.49\n"
          ]
        },
        {
          "output_type": "display_data",
          "data": {
            "text/plain": [
              "<Figure size 432x288 with 1 Axes>"
            ],
            "image/png": "[encoded data removed]"
          },
          "metadata": {
            "needs_background": "light"
          }
        }
      ]
    },
    {
      "cell_type": "code",
      "source": [
        "predictions = model(tf.dtypes.cast(x, tf.float32))\n",
        "\n",
        "# Round all predictions to 0 or 1\n",
        "round_predictions = np.array([ [round(i[0])] for i in predictions.numpy() ])\n",
        "\n",
        "# Calculate the error rate\n",
        "error = 0\n",
        "for index, pred in enumerate(round_predictions):\n",
        "  if round(pred[0]) != y[index][0]:\n",
        "    error += 1\n",
        "\n",
        "print(\"error: \", error/len(y))"
      ],
      "metadata": {
        "colab": {
          "base_uri": "https://localhost:8080/"
        },
        "id": "SzvFmQcu5bX7",
        "outputId": "b727cc83-a794-4c46-d9f8-4194eea38412"
      },
      "execution_count": 13,
      "outputs": [
        {
          "output_type": "stream",
          "name": "stdout",
          "text": [
            "error:  0.0\n"
          ]
        }
      ]
    },
    {
      "cell_type": "code",
      "source": [
        "# scatter plot of predictions\n",
        "plt.scatter(x[round_predictions.flatten()==0, 0], x[round_predictions.flatten()==0, 1], color='red', marker='o', label='setosa')\n",
        "plt.scatter(x[round_predictions.flatten()==1, 0], x[round_predictions.flatten()==1, 1], color='blue', marker='x', label='versicolor')\n",
        "\n",
        "# Get the weights and the bias from the model\n",
        "W, b = model.weights\n",
        "W = W.numpy()\n",
        "b = b.numpy()\n",
        "\n",
        "# decsion line\n",
        "xx1 = np.arange(x[:,0].min() - .5, x[:,0].max() + .5, 0.1)\n",
        "# line equation: W[0] * x + W[1] * y + b; solve for y = -W[0]/W[1] * x - b/W[1]\n",
        "xx2 = -W[0]/W[1] * xx1 - b/W[1]\n",
        "plt.plot(xx1, xx2, 'g--')\n",
        "\n",
        "plt.xlabel('Sepal length [cm]')\n",
        "plt.ylabel('Petal length [cm]')\n",
        "plt.legend(loc='upper left')\n",
        "plt.grid()\n",
        "plt.show()"
      ],
      "metadata": {
        "colab": {
          "base_uri": "https://localhost:8080/",
          "height": 279
        },
        "id": "uKbj3Dx1KqUk",
        "outputId": "68664131-5fb1-4aca-a94a-f7a519401df7"
      },
      "execution_count": 16,
      "outputs": [
        {
          "output_type": "display_data",
          "data": {
            "text/plain": [
              "<Figure size 432x288 with 1 Axes>"
            ],
            "image/png": "[encoded data removed]"
          },
          "metadata": {
            "needs_background": "light"
          }
        }
      ]
    }
  ]
}