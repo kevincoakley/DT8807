{
  "nbformat": 4,
  "nbformat_minor": 0,
  "metadata": {
    "colab": {
      "provenance": [],
      "include_colab_link": true
    },
    "kernelspec": {
      "name": "python3",
      "display_name": "Python 3"
    }
  },
  "cells": [
    {
      "cell_type": "markdown",
      "metadata": {
        "id": "view-in-github",
        "colab_type": "text"
      },
      "source": [
        "<a href=\"https://colab.research.google.com/github/kevincoakley/DT8807/blob/main/annotated_perceptron_iris_classification.ipynb\" target=\"_parent\"><img src=\"https://colab.research.google.com/assets/colab-badge.svg\" alt=\"Open In Colab\"/></a>"
      ]
    },
    {
      "cell_type": "markdown",
      "metadata": {
        "id": "yXzWdML-7nEN"
      },
      "source": [
        "Perceptron - PLR - IRIS classification problem"
      ]
    },
    {
      "cell_type": "code",
      "metadata": {
        "id": "p-dQksWiQwOU"
      },
      "source": [
        "import numpy as np\n",
        "import pandas as pd\n",
        "import matplotlib.pyplot as plt\n"
      ],
      "execution_count": 1,
      "outputs": []
    },
    {
      "cell_type": "markdown",
      "metadata": {
        "id": "TYBo9uzz7m7w"
      },
      "source": []
    },
    {
      "cell_type": "code",
      "metadata": {
        "id": "6fwYzpTmOSBH"
      },
      "source": [
        "class Perceptron(object):\n",
        "\n",
        "  def __init__(self, no_of_inputs, epochs=100, learning_rate=0.01):\n",
        "        self.epochs = epochs\n",
        "        self.learning_rate = learning_rate\n",
        "        self.weights = np.zeros(no_of_inputs + 1)\n",
        "        self.training_error = []\n",
        "  \n",
        "  def predict(self, inputs):\n",
        "    # The same as: w1 * x1 + w2 * x2 + ... + b \n",
        "    # w = weight; x = input value; b = bias\n",
        "    net = np.dot(inputs, self.weights[1:]) + self.weights[0] \n",
        "    # step activation function (all values are either 1 or -1 to match the labels)\n",
        "    if net >= 0:\n",
        "      activation = 1\n",
        "    else:\n",
        "      activation = -1\n",
        "    return activation\n",
        "\n",
        "  def train(self, training_inputs, training_labels):\n",
        "    # Each time the epoch runs:\n",
        "    for _ in range(self.epochs):\n",
        "      # Reset the error to zero\n",
        "      error = 0\n",
        "      \n",
        "      for inputs, label in zip(training_inputs, training_labels):\n",
        "        # Predict the inputs \n",
        "        prediction = self.predict(inputs)\n",
        "        # update the weights according to the \"perceptron learning rule\"\n",
        "        # wi = wi + α ∗ (y−y′) ∗ xi\n",
        "        # weight = weight + learing_rate (α) * (label (y) - prediction (y')) * inputs (x1)\n",
        "        self.weights[1:] += self.learning_rate * (label - prediction) * inputs\n",
        "        # update the bias in a similar way, except without an input as it is not associated with a specific input value\n",
        "        self.weights[0] += self.learning_rate * (label - prediction)\n",
        "        # calculate the mean squared error (MSE)\n",
        "        error += np.square(np.subtract(label, prediction)).mean()\n",
        "      # for informational purposes\n",
        "      self.training_error.append(error)  \n",
        "      print(\"epoch: %s lrate: %s error: %s\" % (_, self.learning_rate, error))"
      ],
      "execution_count": 2,
      "outputs": []
    },
    {
      "cell_type": "code",
      "metadata": {
        "id": "ODXioXDYQpTx",
        "colab": {
          "base_uri": "https://localhost:8080/"
        },
        "outputId": "fc6b7ec5-1b2b-4b14-c02b-db63948f8630"
      },
      "source": [
        "# test perceptron with IRIS data\n",
        "df = pd.read_csv('https://archive.ics.uci.edu/ml/machine-learning-databases/iris/iris.data', header=None)\n",
        "print(df.tail())"
      ],
      "execution_count": 3,
      "outputs": [
        {
          "output_type": "stream",
          "name": "stdout",
          "text": [
            "       0    1    2    3               4\n",
            "145  6.7  3.0  5.2  2.3  Iris-virginica\n",
            "146  6.3  2.5  5.0  1.9  Iris-virginica\n",
            "147  6.5  3.0  5.2  2.0  Iris-virginica\n",
            "148  6.2  3.4  5.4  2.3  Iris-virginica\n",
            "149  5.9  3.0  5.1  1.8  Iris-virginica\n"
          ]
        }
      ]
    },
    {
      "cell_type": "code",
      "metadata": {
        "id": "Js8Ok7PSgEFx",
        "colab": {
          "base_uri": "https://localhost:8080/"
        },
        "outputId": "79b9313f-6d36-417b-e2d6-e961e6ab2af5"
      },
      "source": [
        "# extract first 100 class labels (50 iris-setosa and 50 iris-versicolor)\n",
        "x = df.iloc[0:100, [0, 2]].values\n",
        "\n",
        "# normalize the input values to between 0 and 1\n",
        "x = (x - np.min(x)) / (np.max(x) - np.min(x))\n",
        "\n",
        "# convert iris-setosa to 1 and iris-versicolor to -1 for labeling purposes\n",
        "y = df.iloc[0:100,4].values\n",
        "y =np.where(y=='Iris-setosa',1, -1)\n",
        "print(y)"
      ],
      "execution_count": 4,
      "outputs": [
        {
          "output_type": "stream",
          "name": "stdout",
          "text": [
            "[ 1  1  1  1  1  1  1  1  1  1  1  1  1  1  1  1  1  1  1  1  1  1  1  1\n",
            "  1  1  1  1  1  1  1  1  1  1  1  1  1  1  1  1  1  1  1  1  1  1  1  1\n",
            "  1  1 -1 -1 -1 -1 -1 -1 -1 -1 -1 -1 -1 -1 -1 -1 -1 -1 -1 -1 -1 -1 -1 -1\n",
            " -1 -1 -1 -1 -1 -1 -1 -1 -1 -1 -1 -1 -1 -1 -1 -1 -1 -1 -1 -1 -1 -1 -1 -1\n",
            " -1 -1 -1 -1]\n"
          ]
        }
      ]
    },
    {
      "cell_type": "code",
      "metadata": {
        "id": "UW1Oaa9tj-XA",
        "colab": {
          "base_uri": "https://localhost:8080/",
          "height": 482
        },
        "outputId": "3565504f-87dc-4acc-d6a6-9433627e1ac3"
      },
      "source": [
        "# use a peceptron to find a decsion boundary to separate the two classe\n",
        "p = Perceptron(no_of_inputs=2, epochs=10, learning_rate=0.1)\n",
        "p.train(x, y)\n",
        "\n",
        "# Plot the training error\n",
        "plt.plot(range(1,len(p.training_error)+1), p.training_error, marker='o')\n",
        "plt.xlabel('Epochs')\n",
        "plt.ylabel('Error')\n",
        "plt.title('Training Error')\n",
        "plt.grid()\n",
        "plt.show()\n",
        "\n",
        "print(p.weights)"
      ],
      "execution_count": 10,
      "outputs": [
        {
          "output_type": "stream",
          "name": "stdout",
          "text": [
            "epoch: 0 lrate: 0.1 error: 4.0\n",
            "epoch: 1 lrate: 0.1 error: 12.0\n",
            "epoch: 2 lrate: 0.1 error: 8.0\n",
            "epoch: 3 lrate: 0.1 error: 8.0\n",
            "epoch: 4 lrate: 0.1 error: 8.0\n",
            "epoch: 5 lrate: 0.1 error: 8.0\n",
            "epoch: 6 lrate: 0.1 error: 8.0\n",
            "epoch: 7 lrate: 0.1 error: 4.0\n",
            "epoch: 8 lrate: 0.1 error: 0.0\n",
            "epoch: 9 lrate: 0.1 error: 0.0\n"
          ]
        },
        {
          "output_type": "display_data",
          "data": {
            "text/plain": [
              "<Figure size 432x288 with 1 Axes>"
            ],
            "image/png": "[encoded data removed]"
          },
          "metadata": {
            "needs_background": "light"
          }
        },
        {
          "output_type": "stream",
          "name": "stdout",
          "text": [
            "[ 0.2        -0.04666667 -0.55      ]\n"
          ]
        }
      ]
    },
    {
      "cell_type": "code",
      "metadata": {
        "id": "NPzDdt_dDky7"
      },
      "source": [
        "# plot decicion line\n",
        "x1_min, x1_max = x[:,0].min()-1, x[:,0].max()+1\n",
        "\n",
        "# create an array for the x axis from x_min to x_max for every .1 points\n",
        "xx1 = np.arange(x1_min, x1_max, 0.1)\n",
        "\n",
        "# compute the y value for each x using y = mx + b\n",
        "# where m = -(weight[1]/weight[2]) and b = -(bias/weight[2])\n",
        "xx2 = -p.weights[1]/p.weights[2] * xx1 - p.weights[0]/p.weights[2]\n"
      ],
      "execution_count": 29,
      "outputs": []
    },
    {
      "cell_type": "code",
      "metadata": {
        "id": "OmuPLo0Sikl1",
        "colab": {
          "base_uri": "https://localhost:8080/",
          "height": 279
        },
        "outputId": "b5754794-3fbb-485a-9509-961ec42bbf15"
      },
      "source": [
        "# scatter plot\n",
        "plt.scatter(x[0:50,0], x[0:50,1], color='red', marker='o', label='setosa')\n",
        "plt.scatter(x[50:100,0], x[50:100,1], color='blue', marker='x', label='versicolor')\n",
        "plt.plot(xx1, xx2, 'g--')\n",
        "plt.xlabel('Sepal length [cm]')\n",
        "plt.ylabel('Petal length [cm]')\n",
        "plt.legend(loc='upper left')\n",
        "plt.grid()\n",
        "plt.show()"
      ],
      "execution_count": 30,
      "outputs": [
        {
          "output_type": "display_data",
          "data": {
            "text/plain": [
              "<Figure size 432x288 with 1 Axes>"
            ],
            "image/png": "[encoded data removed]"
          },
          "metadata": {
            "needs_background": "light"
          }
        }
      ]
    },
    {
      "cell_type": "code",
      "metadata": {
        "id": "DURc4bbpPYHY",
        "colab": {
          "base_uri": "https://localhost:8080/"
        },
        "outputId": "d2e6a41e-cb6a-42a9-a923-04bdd70a3abf"
      },
      "source": [
        "pred = []\n",
        "for t in x:\n",
        "  pred.append(p.predict(t))\n",
        "\n",
        "print(pred)\n",
        "error = sum(y - pred)/len(y)\n",
        "print(error)"
      ],
      "execution_count": 31,
      "outputs": [
        {
          "output_type": "stream",
          "name": "stdout",
          "text": [
            "[1, 1, 1, 1, 1, 1, 1, 1, 1, 1, 1, 1, 1, 1, 1, 1, 1, 1, 1, 1, 1, 1, 1, 1, 1, 1, 1, 1, 1, 1, 1, 1, 1, 1, 1, 1, 1, 1, 1, 1, 1, 1, 1, 1, 1, 1, 1, 1, 1, 1, -1, -1, -1, -1, -1, -1, -1, -1, -1, -1, -1, -1, -1, -1, -1, -1, -1, -1, -1, -1, -1, -1, -1, -1, -1, -1, -1, -1, -1, -1, -1, -1, -1, -1, -1, -1, -1, -1, -1, -1, -1, -1, -1, -1, -1, -1, -1, -1, -1, -1]\n",
            "0.0\n"
          ]
        }
      ]
    }
  ]
}